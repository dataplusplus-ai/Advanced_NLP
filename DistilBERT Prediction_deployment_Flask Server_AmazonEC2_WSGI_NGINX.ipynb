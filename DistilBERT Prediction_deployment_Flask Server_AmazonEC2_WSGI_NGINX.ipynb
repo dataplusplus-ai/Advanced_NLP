{
 "cells": [
  {
   "cell_type": "code",
   "execution_count": 27,
   "metadata": {},
   "outputs": [],
   "source": [
    "import ktrain\n",
    "import os\n",
    "os.environ[\"CUDA_VISIBLE_DEVICES\"] = \"-1\" # use only CPU in prediction\n"
   ]
  },
  {
   "cell_type": "code",
   "execution_count": 28,
   "metadata": {},
   "outputs": [],
   "source": [
    "predictor = ktrain.load_predictor('distilbert')"
   ]
  },
  {
   "cell_type": "code",
   "execution_count": 29,
   "metadata": {},
   "outputs": [],
   "source": [
    "data = ['this movie is really great. deserve lots of praise']"
   ]
  },
  {
   "cell_type": "code",
   "execution_count": 30,
   "metadata": {},
   "outputs": [
    {
     "data": {
      "text/html": [],
      "text/plain": [
       "<IPython.core.display.HTML object>"
      ]
     },
     "metadata": {},
     "output_type": "display_data"
    },
    {
     "data": {
      "text/plain": [
       "['pos']"
      ]
     },
     "execution_count": 30,
     "metadata": {},
     "output_type": "execute_result"
    }
   ],
   "source": [
    "predictor.predict(data)"
   ]
  },
  {
   "cell_type": "code",
   "execution_count": 31,
   "metadata": {},
   "outputs": [
    {
     "data": {
      "text/html": [],
      "text/plain": [
       "<IPython.core.display.HTML object>"
      ]
     },
     "metadata": {},
     "output_type": "display_data"
    },
    {
     "name": "stdout",
     "output_type": "stream",
     "text": [
      "Wall time: 689 ms\n"
     ]
    },
    {
     "data": {
      "text/plain": [
       "['pos']"
      ]
     },
     "execution_count": 31,
     "metadata": {},
     "output_type": "execute_result"
    }
   ],
   "source": [
    "%%time\n",
    "predictor.predict(data)"
   ]
  },
  {
   "cell_type": "code",
   "execution_count": null,
   "metadata": {},
   "outputs": [],
   "source": []
  },
  {
   "cell_type": "code",
   "execution_count": 1,
   "metadata": {},
   "outputs": [],
   "source": [
    "import requests\n",
    "import json"
   ]
  },
  {
   "cell_type": "code",
   "execution_count": null,
   "metadata": {},
   "outputs": [],
   "source": [
    "# This should be the code in app.py\n",
    "# from flask import Flask, request, jsonify\n",
    "# import distilbert_model as model\n",
    "\n",
    "\n",
    "# app = Flask(__name__)\n",
    "\n",
    "\n",
    "# @app.route('/')\n",
    "# def hello():\n",
    "#         return 'Congrats! Server is working'\n",
    "\n",
    "# # get the json data\n",
    "# @app.route('/get_sentiment', methods = ['POST'])\n",
    "# def get_sentiment():\n",
    "#         tx = request.get_json(force = True)\n",
    "#         text = tx['Review']\n",
    "\n",
    "#         sent = model.get_prediction(text)\n",
    "\n",
    "#         print('get_sentiment  is working')\n",
    "\n",
    "#         return jsonify(result = sent)\n",
    "\n",
    "# if __name__ == '__main__':\n",
    "#         app.run(host = '0.0.0.0', port = 5000, debug = True, use_reloader = False)"
   ]
  },
  {
   "cell_type": "code",
   "execution_count": null,
   "metadata": {},
   "outputs": [],
   "source": [
    "# This code is to be written in distilbert_model.py\n",
    "# import ktrain\n",
    "# import os\n",
    "\n",
    "# os.environ[\"CUDA_VISIBLE_DEVICES\"] = \"-1\" # use only CPU in prediction\n",
    "\n",
    "# predictor = ktrain.load_predictor('distilbert')\n",
    "\n",
    "\n",
    "# def get_prediction(x):\n",
    "#         sent = predictor.predict([x])\n",
    "#         return sent[0]"
   ]
  },
  {
   "cell_type": "code",
   "execution_count": null,
   "metadata": {},
   "outputs": [],
   "source": [
    "# This code is written in bertmodel.py\n",
    "# from flask import Flask, request, jsonify                                         \n",
    "# import distilbert_model as model                                                  \n",
    "                                                                                  \n",
    "                                                                                  \n",
    "# app = Flask(__name__)                                                             \n",
    "                                                                                  \n",
    "                                                                                  \n",
    "# @app.route('/')                                                                   \n",
    "# def hello():                                                                      \n",
    "#         return 'Congrats! Server is working'                                      \n",
    "                                                                                  \n",
    "# # get the json data                                                               \n",
    "# @app.route('/get_sentiment', methods = ['POST'])                                  \n",
    "# def get_sentiment():                                                              \n",
    "#         tx = request.get_json(force = True)                                       \n",
    "#         text = tx['Review']                                                       \n",
    "                                                                                  \n",
    "#         sent = model.get_prediction(text)                                         \n",
    "                                                                                  \n",
    "#         print('get_sentiment  is working')                                        \n",
    "                                                                                  \n",
    "#         return jsonify(result = sent)                                             \n",
    "                                                                                  \n",
    "# if __name__ == '__main__':                                                        \n",
    "#         app.run(host = '0.0.0.0', port = 5000, debug = True, use_reloader = False)"
   ]
  },
  {
   "cell_type": "code",
   "execution_count": null,
   "metadata": {},
   "outputs": [],
   "source": [
    "# This code is to be written in wsgi.py\n",
    "# from bertmodel import app\n",
    "# if __name__ == \"__main__\":\n",
    "#         app.run()"
   ]
  },
  {
   "cell_type": "code",
   "execution_count": 40,
   "metadata": {},
   "outputs": [
    {
     "name": "stdout",
     "output_type": "stream",
     "text": [
      "<Response [200]>\n",
      "Congrats! Server is working\n"
     ]
    }
   ],
   "source": [
    "host = 'localhost'\n",
    "port = 5000\n",
    "\n",
    "url = \"http://localhost:5000/\"\n",
    "\n",
    "x = requests.get(url)\n",
    "print(x)\n",
    "print(x.text)"
   ]
  },
  {
   "cell_type": "code",
   "execution_count": 41,
   "metadata": {},
   "outputs": [],
   "source": [
    "data = {'Review': 'This movie is great. I have enjoyed a lot'}\n",
    "data = json.dumps(data)\n",
    "\n"
   ]
  },
  {
   "cell_type": "code",
   "execution_count": 42,
   "metadata": {},
   "outputs": [
    {
     "data": {
      "text/plain": [
       "'{\"Review\": \"This movie is great. I have enjoyed a lot\"}'"
      ]
     },
     "execution_count": 42,
     "metadata": {},
     "output_type": "execute_result"
    }
   ],
   "source": [
    "data"
   ]
  },
  {
   "cell_type": "code",
   "execution_count": 43,
   "metadata": {},
   "outputs": [
    {
     "name": "stdout",
     "output_type": "stream",
     "text": [
      "<Response [200]>\n",
      "{\n",
      "  \"result\": \"pos\"\n",
      "}\n",
      "\n"
     ]
    }
   ],
   "source": [
    "url = \"http://localhost:5000/get_sentiment\"\n",
    "\n",
    "x = requests.post(url, data)\n",
    "print(x)\n",
    "print(x.text)"
   ]
  },
  {
   "cell_type": "code",
   "execution_count": 44,
   "metadata": {},
   "outputs": [
    {
     "name": "stdout",
     "output_type": "stream",
     "text": [
      "{\n",
      "  \"result\": \"neg\"\n",
      "}\n",
      "\n"
     ]
    }
   ],
   "source": [
    "url = \"http://localhost:5000/get_sentiment\"\n",
    "data = {'Review': 'this movie is horrible. return my money'}\n",
    "data = json.dumps(data)\n",
    "\n",
    "x = requests.post(url, data)\n",
    "print(x.text)"
   ]
  },
  {
   "cell_type": "code",
   "execution_count": 49,
   "metadata": {},
   "outputs": [],
   "source": [
    "response = json.loads(x.text)"
   ]
  },
  {
   "cell_type": "code",
   "execution_count": 50,
   "metadata": {},
   "outputs": [
    {
     "data": {
      "text/plain": [
       "dict"
      ]
     },
     "execution_count": 50,
     "metadata": {},
     "output_type": "execute_result"
    }
   ],
   "source": [
    "type(response)"
   ]
  },
  {
   "cell_type": "code",
   "execution_count": 51,
   "metadata": {},
   "outputs": [
    {
     "data": {
      "text/plain": [
       "dict_keys(['result'])"
      ]
     },
     "execution_count": 51,
     "metadata": {},
     "output_type": "execute_result"
    }
   ],
   "source": [
    "response.keys()"
   ]
  },
  {
   "cell_type": "code",
   "execution_count": 52,
   "metadata": {},
   "outputs": [
    {
     "data": {
      "text/plain": [
       "'neg'"
      ]
     },
     "execution_count": 52,
     "metadata": {},
     "output_type": "execute_result"
    }
   ],
   "source": [
    "response['result']"
   ]
  },
  {
   "cell_type": "code",
   "execution_count": null,
   "metadata": {},
   "outputs": [],
   "source": []
  },
  {
   "cell_type": "markdown",
   "metadata": {},
   "source": [
    "## Predict from EC2 Instance -Windows server"
   ]
  },
  {
   "cell_type": "code",
   "execution_count": 53,
   "metadata": {},
   "outputs": [
    {
     "name": "stdout",
     "output_type": "stream",
     "text": [
      "{\n",
      "  \"result\": \"neg\"\n",
      "}\n",
      "\n"
     ]
    }
   ],
   "source": [
    "url = \"http://18.221.49.245:5000/get_sentiment\"\n",
    "data = {'Review': 'this movie is horrible. return my money'}\n",
    "data = json.dumps(data)\n",
    "\n",
    "x = requests.post(url, data)\n",
    "print(x.text)"
   ]
  },
  {
   "cell_type": "markdown",
   "metadata": {},
   "source": [
    "## Predict from EC2 Instance - Ubuntu server"
   ]
  },
  {
   "cell_type": "code",
   "execution_count": 1,
   "metadata": {},
   "outputs": [],
   "source": [
    "import requests\n",
    "import json"
   ]
  },
  {
   "cell_type": "code",
   "execution_count": 3,
   "metadata": {},
   "outputs": [
    {
     "name": "stdout",
     "output_type": "stream",
     "text": [
      "{\n",
      "  \"result\": \"neg\"\n",
      "}\n",
      "\n"
     ]
    }
   ],
   "source": [
    "url = \"http://34.239.103.42:5000/get_sentiment\"\n",
    "data = {'Review': 'this movie is horrible. return my money'}\n",
    "data = json.dumps(data)\n",
    "\n",
    "x = requests.post(url, data)\n",
    "print(x.text)"
   ]
  },
  {
   "cell_type": "code",
   "execution_count": 4,
   "metadata": {},
   "outputs": [
    {
     "name": "stdout",
     "output_type": "stream",
     "text": [
      "{\n",
      "  \"result\": \"neg\"\n",
      "}\n",
      "\n",
      "{\n",
      "  \"result\": \"neg\"\n",
      "}\n",
      "\n",
      "{\n",
      "  \"result\": \"neg\"\n",
      "}\n",
      "\n",
      "{\n",
      "  \"result\": \"neg\"\n",
      "}\n",
      "\n",
      "{\n",
      "  \"result\": \"neg\"\n",
      "}\n",
      "\n",
      "{\n",
      "  \"result\": \"neg\"\n",
      "}\n",
      "\n",
      "{\n",
      "  \"result\": \"neg\"\n",
      "}\n",
      "\n",
      "{\n",
      "  \"result\": \"neg\"\n",
      "}\n",
      "\n",
      "541 ms ± 5.42 ms per loop (mean ± std. dev. of 7 runs, 1 loop each)\n"
     ]
    }
   ],
   "source": [
    "%%timeit\n",
    "url = \"http://34.239.103.42:5000/get_sentiment\"\n",
    "data = {'Review': 'this movie is horrible. return my money'}\n",
    "data = json.dumps(data)\n",
    "\n",
    "x = requests.post(url, data)\n",
    "print(x.text)"
   ]
  },
  {
   "cell_type": "code",
   "execution_count": 7,
   "metadata": {},
   "outputs": [
    {
     "name": "stdout",
     "output_type": "stream",
     "text": [
      "{\n",
      "  \"result\": \"neg\"\n",
      "}\n",
      "\n",
      "Wall time: 531 ms\n"
     ]
    }
   ],
   "source": [
    "%%time\n",
    "url = \"http://34.239.103.42:5000/get_sentiment\"\n",
    "data = {'Review': 'this movie is horrible. return my money'}\n",
    "data = json.dumps(data)\n",
    "\n",
    "x = requests.post(url, data)\n",
    "print(x.text)\n",
    "# since we are using free tier t2.micro instance with less memory the time taken for prediction is \n",
    "# more"
   ]
  },
  {
   "cell_type": "markdown",
   "metadata": {},
   "source": [
    "## Predict from NGINX-EC2 instance "
   ]
  },
  {
   "cell_type": "code",
   "execution_count": 1,
   "metadata": {},
   "outputs": [],
   "source": [
    "import requests,json\n"
   ]
  },
  {
   "cell_type": "code",
   "execution_count": 7,
   "metadata": {},
   "outputs": [
    {
     "name": "stdout",
     "output_type": "stream",
     "text": [
      "Congrats! Server is working\n"
     ]
    }
   ],
   "source": [
    "url = \"http://174.129.143.128\"\n",
    "x = requests.get(url, data)\n",
    "print(x.text)"
   ]
  },
  {
   "cell_type": "code",
   "execution_count": 4,
   "metadata": {},
   "outputs": [
    {
     "name": "stdout",
     "output_type": "stream",
     "text": [
      "<html>\r\n",
      "<head><title>504 Gateway Time-out</title></head>\r\n",
      "<body>\r\n",
      "<center><h1>504 Gateway Time-out</h1></center>\r\n",
      "<hr><center>nginx/1.18.0 (Ubuntu)</center>\r\n",
      "</body>\r\n",
      "</html>\r\n",
      "\n",
      "Wall time: 1min\n"
     ]
    }
   ],
   "source": [
    "%%time\n",
    "url = \"http://174.129.143.128/get_sentiment\"\n",
    "data = {'Review': 'this movie is horrible. return my money'}\n",
    "data = json.dumps(data)\n",
    "\n",
    "x = requests.post(url, data)\n",
    "print(x.text)"
   ]
  },
  {
   "cell_type": "markdown",
   "metadata": {},
   "source": [
    "The above error is due to multithreading in tensorflow\n",
    "Make changes in bertmodel.ini\n",
    "\n",
    "[uwsgi]\n",
    "\n",
    "module = wsgi:app\n",
    "    \n",
    "master = true\n",
    "\n",
    "processes = 5\n",
    "\n",
    "socket = bertmodel.sock\n",
    "\n",
    "chmod-socket = 660\n",
    "\n",
    "vacuum = true\n",
    "\n",
    "die-on-term = true \n",
    " \n",
    "modify the above code as follows:\n",
    "    \n",
    "module = wsgi:app\n",
    "master = false\n",
    "processes = 1\n",
    "cheaper = 0\n",
    "socket = bertmodel.sock\n",
    "chmod-socket = 660\n",
    "vacuum = true\n",
    "die-on-term = true\n"
   ]
  },
  {
   "cell_type": "code",
   "execution_count": 8,
   "metadata": {},
   "outputs": [
    {
     "name": "stdout",
     "output_type": "stream",
     "text": [
      "{\"result\":\"neg\"}\n",
      "\n",
      "Wall time: 19.5 s\n"
     ]
    }
   ],
   "source": [
    "%%time\n",
    "url = \"http://174.129.143.128/get_sentiment\"\n",
    "data = {'Review': 'this movie is horrible. return my money'}\n",
    "data = json.dumps(data)\n",
    "\n",
    "x = requests.post(url, data)\n",
    "print(x.text)"
   ]
  },
  {
   "cell_type": "code",
   "execution_count": 9,
   "metadata": {},
   "outputs": [
    {
     "name": "stdout",
     "output_type": "stream",
     "text": [
      "{\"result\":\"pos\"}\n",
      "\n",
      "{\"result\":\"pos\"}\n",
      "\n",
      "{\"result\":\"pos\"}\n",
      "\n",
      "{\"result\":\"pos\"}\n",
      "\n",
      "{\"result\":\"pos\"}\n",
      "\n",
      "{\"result\":\"pos\"}\n",
      "\n",
      "{\"result\":\"pos\"}\n",
      "\n",
      "{\"result\":\"pos\"}\n",
      "\n",
      "555 ms ± 16.9 ms per loop (mean ± std. dev. of 7 runs, 1 loop each)\n"
     ]
    }
   ],
   "source": [
    "%%timeit\n",
    "data = {'Review': 'I like this movie'}\n",
    "data = json.dumps(data)\n",
    "\n",
    "x = requests.post(url, data)\n",
    "print(x.text)"
   ]
  },
  {
   "cell_type": "code",
   "execution_count": null,
   "metadata": {},
   "outputs": [],
   "source": []
  }
 ],
 "metadata": {
  "kernelspec": {
   "display_name": "Python 3",
   "language": "python",
   "name": "python3"
  },
  "language_info": {
   "codemirror_mode": {
    "name": "ipython",
    "version": 3
   },
   "file_extension": ".py",
   "mimetype": "text/x-python",
   "name": "python",
   "nbconvert_exporter": "python",
   "pygments_lexer": "ipython3",
   "version": "3.8.5"
  }
 },
 "nbformat": 4,
 "nbformat_minor": 4
}
